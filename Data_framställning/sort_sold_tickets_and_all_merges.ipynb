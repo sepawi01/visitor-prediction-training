{
 "cells": [
  {
   "cell_type": "code",
   "execution_count": null,
   "metadata": {},
   "outputs": [],
   "source": [
    "import pandas as pd"
   ]
  },
  {
   "cell_type": "markdown",
   "metadata": {},
   "source": [
    "# Sort bookings"
   ]
  },
  {
   "cell_type": "markdown",
   "metadata": {},
   "source": [
    "Detta sorterar från alla bokningar osorterade."
   ]
  },
  {
   "cell_type": "code",
   "execution_count": null,
   "metadata": {},
   "outputs": [],
   "source": [
    "\n",
    "year = 2024\n",
    "days_before = 56\n",
    "\n",
    "filenames = [f\"alla_bokningar_{year}.csv\"]\n",
    "sammanfogad_df = pd.DataFrame()\n",
    "\n",
    "for file_name in filenames:\n",
    "    df = pd.read_csv(file_name)\n",
    "    df['DateFrom'] = pd.to_datetime(df['DateFrom'], format='%Y-%m-%d %H:%M:%S.%f', errors=\"coerce\")\n",
    "    df['DateTo'] = pd.to_datetime(df['DateTo'], format='%Y-%m-%d %H:%M:%S.%f', errors=\"coerce\")\n",
    "    df = df.dropna(subset=['DateFrom', 'DateTo'])\n",
    "    nat_counts = df.isna().sum()\n",
    "\n",
    "    df = df.dropna(subset=['DateFrom', 'DateTo'])\n",
    "    sammanfogad_df = pd.concat([sammanfogad_df, df], ignore_index=True)\n",
    "df_sorted = sammanfogad_df.sort_values(by='DateFrom', ascending=True)\n",
    "df_sorted['DateFrom'] = pd.to_datetime(df_sorted['DateFrom'])\n",
    "df_sorted['DateTo'] = pd.to_datetime(df_sorted['DateTo'])\n",
    "\n",
    "def generate_date_range(row):\n",
    "    return pd.date_range(start=row['DateFrom'], end=row['DateTo']).tolist()\n",
    "\n",
    "df_sorted['DateRange'] = df.apply(generate_date_range, axis=1)\n",
    "df_sorted = df_sorted.dropna(subset=['DateFrom', 'DateTo','DateRange'])\n",
    "\n",
    "df_sorted['OrderDate'] = pd.to_datetime(df_sorted['OrderDate'])\n",
    "\n",
    "rows = []\n",
    "for _, row in df_sorted.iterrows():\n",
    "    for visit_date in row['DateRange']:\n",
    "        days_in_advance = (visit_date - row['OrderDate']).days\n",
    "        if days_in_advance >= days_before:\n",
    "            rows.append({'date': visit_date, 'DaysInAdvance': days_in_advance})\n",
    "\n",
    "expanded_bookings_df = pd.DataFrame(rows)\n",
    "\n",
    "count_bookings_df = expanded_bookings_df.groupby('date').size().reset_index(name='BookingCount')\n",
    "print(count_bookings_df)\n",
    "count_bookings_df.to_csv(f'amount_bookings_{days_before}_days_before_sorted_on_dates_{year}.csv')\n"
   ]
  },
  {
   "cell_type": "markdown",
   "metadata": {},
   "source": [
    "# Combine to one file"
   ]
  },
  {
   "cell_type": "code",
   "execution_count": null,
   "metadata": {},
   "outputs": [],
   "source": [
    "days_before = 56\n",
    "files = [f\"amount_bookings_{days_before}_days_before_sorted_on_dates_2021.csv\",f\"amount_bookings_{days_before}_days_before_sorted_on_dates_2023.csv\",\n",
    "         f\"amount_bookings_{days_before}_days_before_sorted_on_dates_2022.csv\",f\"amount_bookings_{days_before}_days_before_sorted_on_dates_2024.csv\"]\n",
    "\n",
    "dfs = [pd.read_csv(file) for file in files]\n",
    "combined_df = pd.concat(dfs)\n",
    "sorted_comb_df = combined_df.sort_values('VisitDate')\n",
    "\n",
    "print(sorted_comb_df)\n",
    "sorted_comb_df.to_csv(f\"amount_of_bookings_{days_before}_days_before_all_years.csv\")"
   ]
  },
  {
   "cell_type": "markdown",
   "metadata": {},
   "source": [
    "# Merge Visitor Data with rain data"
   ]
  },
  {
   "cell_type": "code",
   "execution_count": null,
   "metadata": {},
   "outputs": [],
   "source": [
    "original_df = pd.read_csv('visitor_data_with_weather.csv')\n",
    "original_df = original_df[['date','visitors']]\n",
    "original_df = original_df[original_df['date'].between('2020-01-01', '2024-12-31')].copy()\n",
    "original_df['date'] = pd.to_datetime(original_df['date'])\n",
    "\n",
    "df_with_rain = pd.read_csv('smhi_rain.csv', sep=';', index_col=False, low_memory=False)\n",
    "df_with_rain['date'] = pd.to_datetime(df['date'], errors='coerce')\n",
    "df_with_rain_sorted = df_with_rain.sort_values(by=['date', 'Tid'])\n",
    "df_with_rain_sorted['Nederbördsmängd'] = pd.to_numeric(df_with_rain_sorted['Nederbördsmängd'], errors='coerce')\n",
    "df_with_rain_sorted['Tid'] = pd.to_datetime(df_with_rain_sorted['Tid'], format='%H:%M:%S').dt.time\n",
    "\n",
    "df_with_rain_sorted['weather_rain'] = ((df_sorted['Tid'] >= pd.to_datetime('07:00:00').time()) & \n",
    "                     (df_sorted['Tid'] <= pd.to_datetime('18:00:00').time()) & \n",
    "                     (df_sorted['Nederbördsmängd'] > 0.0)).astype(int)\n",
    "\n",
    "df_daily_rain = df_with_rain_sorted.groupby('date')['weather_rain'].max().reset_index()"
   ]
  },
  {
   "cell_type": "code",
   "execution_count": null,
   "metadata": {},
   "outputs": [],
   "source": [
    "rain_merge = original_df.merge(df_daily_rain[['date','weather_rain']], on='date',how='left')\n",
    "print(rain_merge)"
   ]
  },
  {
   "cell_type": "markdown",
   "metadata": {},
   "source": [
    "# Merge with temperature"
   ]
  },
  {
   "cell_type": "code",
   "execution_count": null,
   "metadata": {},
   "outputs": [],
   "source": [
    "df_temp = pd.read_csv('smhi_temp_max.csv', sep=';', index_col=False)\n",
    "df_temp['date'] = pd.to_datetime(df_temp['date'], errors='coerce')\n",
    "df_temp = df_temp.sort_values(by=['date', 'Tid'])\n",
    "df_temp['Tid'] = pd.to_datetime(df_temp['Tid'], format='%H:%M:%S').dt.time\n",
    "df_filtered = df_temp[df_temp['Tid'] == pd.to_datetime('18:00:00').time()]\n",
    "df_filtered = df_filtered.rename(columns={'Lufttemperatur':'weather_temp'})\n",
    "\n",
    "all_weather_merged = rain_merge.merge(df_filtered[['date','weather_temp']],on='date',how='left')\n",
    "print(all_weather_merged)"
   ]
  },
  {
   "cell_type": "markdown",
   "metadata": {},
   "source": [
    "# Merge with bookings"
   ]
  },
  {
   "cell_type": "code",
   "execution_count": null,
   "metadata": {},
   "outputs": [],
   "source": [
    "file_days = list(range(1, 11)) + [14, 21, 35, 56]\n",
    "\n",
    "for day in file_days:\n",
    "    df_bookings = pd.read_csv(f'amount_of_bookings_{day}_days_before_all_years.csv')\n",
    "    df_bookings['date'] = pd.to_datetime(df_bookings['VisitDate'])\n",
    "    column_name = f'BookingCount_{day}'\n",
    "    df_bookings.rename(columns={'BookingCount': column_name}, inplace=True)\n",
    "    all_weather_merged = all_weather_merged.merge(df_bookings[['date', column_name]], on='date', how='left')\n",
    "\n",
    "print('Final columns in all_weather_merged:', all_weather_merged.columns)\n",
    "\n",
    "print(all_weather_merged)\n"
   ]
  }
 ],
 "metadata": {
  "kernelspec": {
   "display_name": "base",
   "language": "python",
   "name": "python3"
  },
  "language_info": {
   "codemirror_mode": {
    "name": "ipython",
    "version": 3
   },
   "file_extension": ".py",
   "mimetype": "text/x-python",
   "name": "python",
   "nbconvert_exporter": "python",
   "pygments_lexer": "ipython3",
   "version": "3.9.18"
  }
 },
 "nbformat": 4,
 "nbformat_minor": 2
}
