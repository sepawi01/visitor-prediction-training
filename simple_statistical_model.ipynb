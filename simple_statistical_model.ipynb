{
 "cells": [
  {
   "cell_type": "code",
   "execution_count": null,
   "metadata": {},
   "outputs": [],
   "source": [
    "import pandas as pd\n",
    "df = pd.read_csv('data_for_1_model_all_year_bookings.csv')\n",
    "#Add years you want to train the model on\n",
    "df_train = df[df['date'].between('2022-01-01', '2023-12-30')].copy()"
   ]
  },
  {
   "cell_type": "markdown",
   "metadata": {},
   "source": [
    "# Creates bookings increases "
   ]
  },
  {
   "cell_type": "code",
   "execution_count": null,
   "metadata": {},
   "outputs": [],
   "source": [
    "df_train['increase_factor'] = df_train.apply(lambda row: ((row['visitors'] - row['bookings']) / row['bookings']) if row['bookings'] > 0 else 0, axis=1)\n",
    "df_train.dropna(inplace=True)\n",
    "print(df_train)"
   ]
  },
  {
   "cell_type": "markdown",
   "metadata": {},
   "source": [
    "# Creates csv with median bookings increases sorted on day_of_year and X days before target day"
   ]
  },
  {
   "cell_type": "code",
   "execution_count": null,
   "metadata": {},
   "outputs": [],
   "source": [
    "df_train['date'] = pd.to_datetime(df_train['date'])\n",
    "df_train['day_of_year'] = df_train['date'].dt.dayofyear\n",
    " \n",
    "average_increase_by_week_and_days_before = df_train.groupby(['day_of_year','days_before'])['increase_factor'].median()\n",
    "average_increase_by_week_and_days_before = average_increase_by_week_and_days_before.round(2)\n",
    "print(average_increase_by_week_and_days_before)\n",
    "average_increase_by_week_and_days_before.to_csv('daily_increases.csv')"
   ]
  },
  {
   "cell_type": "markdown",
   "metadata": {},
   "source": [
    "# Test the simple statistics model"
   ]
  },
  {
   "cell_type": "code",
   "execution_count": null,
   "metadata": {},
   "outputs": [],
   "source": [
    "increase_df = pd.read_csv('daily_increases.csv')\n",
    "df_test = df[df['date'].between('2024-01-01', '2024-12-31')].copy()\n",
    "\n",
    "df_test['date'] = pd.to_datetime(df_test['date'])\n",
    "df_test['day_of_year'] = df_test['date'].dt.dayofyear\n",
    "df_test['day_of_month'] = df_test['date'].dt.day"
   ]
  },
  {
   "cell_type": "code",
   "execution_count": null,
   "metadata": {},
   "outputs": [],
   "source": [
    "def find_nearest_forward_match(target_day, available_days):\n",
    "    \"\"\"\n",
    "    Hittar den närmsta dagen framåt från target_day i available_days.\n",
    "    Returnerar None om ingen sådan dag finns.\n",
    "    \"\"\"\n",
    "    future_days = available_days[available_days >= target_day]\n",
    "    if not future_days.empty:\n",
    "        return future_days.min() \n",
    "    return None\n",
    "\n",
    "def perform_statistical_predictions(row):\n",
    "    matching_increase = increase_df[\n",
    "        (increase_df['day_of_year'] == row['day_of_year']) & \n",
    "        (increase_df['days_before'] == row['days_before'])\n",
    "    ]['increase_factor']\n",
    "    \n",
    "    if not matching_increase.empty:\n",
    "        adjusted_increase = matching_increase.iloc[0].round(0)\n",
    "        \n",
    "        return row['bookings'] * (1 + adjusted_increase)\n",
    "    \n",
    "    else:\n",
    "        # Om ingen exakt matchning finns, sök efter den närmaste framåt matchningen\n",
    "        nearest_day = find_nearest_forward_match(row['day_of_year'], increase_df['day_of_year'])\n",
    "        \n",
    "        if nearest_day is not None:\n",
    "            nearest_increase = increase_df[\n",
    "                (increase_df['day_of_year'] == nearest_day) & \n",
    "                (increase_df['days_before'] == row['days_before'])\n",
    "            ]['increase_factor']\n",
    "            \n",
    "            if not nearest_increase.empty:\n",
    "                adjusted_increase = nearest_increase.iloc[0].round(0)\n",
    "                return row['bookings'] * (1 + adjusted_increase)\n",
    "            \n",
    "        return row['bookings']\n",
    "\n",
    "df_test['predicted_visitors'] = df_test.apply(perform_statistical_predictions, axis=1)\n",
    "\n",
    "for index, row in df_test.iterrows():\n",
    "    date = row['date']\n",
    "    bookings = row['bookings']\n",
    "    visitors = row['visitors']\n",
    "    pred = row['predicted_visitors']\n",
    "    days_before = row['days_before']\n",
    "    print(f\"Date:{date} Days before:{days_before} Bookings:{bookings} Actual Visitors:{visitors}  Prediction:{pred}\\n\")\n"
   ]
  },
  {
   "cell_type": "markdown",
   "metadata": {},
   "source": [
    "# Plots test"
   ]
  },
  {
   "cell_type": "code",
   "execution_count": null,
   "metadata": {},
   "outputs": [],
   "source": [
    "import matplotlib.pyplot as plt\n",
    "# Filter test_df on days_before\n",
    "test_df = df_test[df_test['days_before'].isin([10])].copy()\n",
    "\n",
    "plt.figure(figsize=(15, 7))\n",
    "plt.plot(test_df['predicted_visitors'], label='Prediktioner')\n",
    "plt.plot(test_df['visitors'], label='Riktiga Värden')\n",
    "plt.title('Tensorflow Modell Maj')\n",
    "plt.xlabel('Datum')\n",
    "plt.ylabel('Besökare')\n",
    "plt.legend()\n",
    "plt.show()"
   ]
  },
  {
   "cell_type": "markdown",
   "metadata": {},
   "source": [
    "# Uncomment and run if you want to merge your training data for model training with increases"
   ]
  },
  {
   "cell_type": "code",
   "execution_count": null,
   "metadata": {},
   "outputs": [],
   "source": [
    "# # your training data file \n",
    "# df = pd.read_csv('data_for_1_model_all_year_bookings.csv')\n",
    "# df['day_of_year'] = pd.to_datetime(df['date']).dt.day_of_year\n",
    "# df = df.drop(columns=['bookings_increase'])\n",
    "# #statistical increase data\n",
    "# df_increase = pd.read_csv('daily_increases.csv')\n",
    "\n",
    "# df_merged = pd.merge(df, df_increase[['day_of_year', 'days_before','increase_factor']], on=['day_of_year', 'days_before'], how='left')\n",
    "# df_merged = df_merged.rename(columns={'increase_factor': 'bookings_increase'})\n",
    "\n",
    "# print(df_merged)\n",
    "# df_merged.to_csv('merged_data')"
   ]
  }
 ],
 "metadata": {
  "kernelspec": {
   "display_name": "tensorflow_env",
   "language": "python",
   "name": "python3"
  },
  "language_info": {
   "codemirror_mode": {
    "name": "ipython",
    "version": 3
   },
   "file_extension": ".py",
   "mimetype": "text/x-python",
   "name": "python",
   "nbconvert_exporter": "python",
   "pygments_lexer": "ipython3",
   "version": "3.9.18"
  }
 },
 "nbformat": 4,
 "nbformat_minor": 2
}
