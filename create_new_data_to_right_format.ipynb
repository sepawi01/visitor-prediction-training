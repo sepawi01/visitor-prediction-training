{
 "cells": [
  {
   "cell_type": "code",
   "execution_count": null,
   "metadata": {},
   "outputs": [],
   "source": [
    "import pandas as pd"
   ]
  },
  {
   "cell_type": "markdown",
   "metadata": {},
   "source": [
    "# Load Data"
   ]
  },
  {
   "cell_type": "code",
   "execution_count": null,
   "metadata": {},
   "outputs": [],
   "source": [
    "df = pd.read_csv('data')\n",
    "df['date'] = pd.to_datetime(df['date'])\n",
    "df['day_of_year'] = df['date'].dt.dayofyear\n",
    "df['day_of_month'] = df['date'].dt.day\n",
    "\n",
    "print(df)"
   ]
  },
  {
   "cell_type": "markdown",
   "metadata": {},
   "source": [
    "# Merge Weather"
   ]
  },
  {
   "cell_type": "markdown",
   "metadata": {},
   "source": [
    "Should contain columns date, weather_rain, weather_temp"
   ]
  },
  {
   "cell_type": "code",
   "execution_count": null,
   "metadata": {},
   "outputs": [],
   "source": [
    "weather_df = pd.read_csv('your_weather_data.csv')\n",
    "df = df.merge(weather_df[['weather_rain','weather_temp']], on='date',how='left')\n",
    "print(df)"
   ]
  },
  {
   "cell_type": "markdown",
   "metadata": {},
   "source": [
    "# Create dataframe in right format"
   ]
  },
  {
   "cell_type": "markdown",
   "metadata": {},
   "source": [
    "You need to have a dataframe that already includes columns date, visitors, bookingCount_{days_before}, weather_temp and weather_rain."
   ]
  },
  {
   "cell_type": "code",
   "execution_count": null,
   "metadata": {},
   "outputs": [],
   "source": [
    "def expand_df(original_df):\n",
    "    expanded_rows = []\n",
    "    for _, row in original_df.iterrows():\n",
    "        for days_before in [4, 7, 10, 21,]:\n",
    "            weather_temp = row['weather_temp']\n",
    "            weather_rain = row['weather_rain']\n",
    "            weather_available = 1\n",
    "            if days_before in [21,10]:\n",
    "                weather_temp = 0\n",
    "                weather_rain = 0\n",
    "                weather_available = 0\n",
    "            new_row = {\n",
    "                'date': row['date'],\n",
    "                'days_before': row['days_before'],\n",
    "                'bookings': row['bookings'],\n",
    "                'weather_temp': weather_temp,\n",
    "                'weather_rain': weather_rain,\n",
    "                'weather_available': weather_available,\n",
    "                'visitors': row['visitors'],\n",
    "            }\n",
    "            expanded_rows.append(new_row)\n",
    "    return pd.DataFrame(expanded_rows)\n",
    "new_df = expand_df(df)\n",
    "print(new_df)"
   ]
  }
 ],
 "metadata": {
  "kernelspec": {
   "display_name": "tensorflow_env",
   "language": "python",
   "name": "python3"
  },
  "language_info": {
   "codemirror_mode": {
    "name": "ipython",
    "version": 3
   },
   "file_extension": ".py",
   "mimetype": "text/x-python",
   "name": "python",
   "nbconvert_exporter": "python",
   "pygments_lexer": "ipython3",
   "version": "3.9.18"
  }
 },
 "nbformat": 4,
 "nbformat_minor": 2
}
