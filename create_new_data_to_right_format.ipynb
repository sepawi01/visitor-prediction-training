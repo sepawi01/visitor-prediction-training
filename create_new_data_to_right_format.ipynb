{
 "cells": [
  {
   "cell_type": "code",
   "execution_count": null,
   "metadata": {},
   "outputs": [],
   "source": [
    "import pandas as pd"
   ]
  },
  {
   "cell_type": "markdown",
   "metadata": {},
   "source": [
    "# Load Data"
   ]
  },
  {
   "cell_type": "code",
   "execution_count": null,
   "metadata": {},
   "outputs": [],
   "source": [
    "df = pd.read_csv('train_with_30.csv')\n",
    "df['date'] = pd.to_datetime(df['date'])\n",
    "df['day_of_year'] = df['date'].dt.dayofyear\n",
    "df['day_of_month'] = df['date'].dt.day\n",
    "\n",
    "print(df)"
   ]
  },
  {
   "cell_type": "markdown",
   "metadata": {},
   "source": [
    "# Merge Weather"
   ]
  },
  {
   "cell_type": "markdown",
   "metadata": {},
   "source": [
    "Should contain columns date, weather_rain, weather_temp"
   ]
  },
  {
   "cell_type": "code",
   "execution_count": null,
   "metadata": {},
   "outputs": [],
   "source": [
    "weather_df = pd.read_csv('your_weather_data.csv')\n",
    "df = df.merge(weather_df[['weather_rain','weather_temp']], on='date',how='left')\n",
    "print(df)"
   ]
  },
  {
   "cell_type": "markdown",
   "metadata": {},
   "source": [
    "# Create dataframe in right format"
   ]
  },
  {
   "cell_type": "markdown",
   "metadata": {},
   "source": [
    "You need to have a dataframe that already includes columns date, visitors, bookingCount_{days_before}, weather_temp and weather_rain."
   ]
  },
  {
   "cell_type": "code",
   "execution_count": null,
   "metadata": {},
   "outputs": [],
   "source": [
    "def expand_df(original_df):\n",
    "    expanded_rows = []\n",
    "    for _, row in original_df.iterrows():\n",
    "        for days_before in [4, 7, 10, 21,]:\n",
    "            weather_temp = row['weather_temp']\n",
    "            weather_rain = row['weather_rain']\n",
    "            weather_available = 1\n",
    "            if days_before in [21,10]:\n",
    "                weather_temp = 0\n",
    "                weather_rain = 0\n",
    "                weather_available = 0\n",
    "            new_row = {\n",
    "                'date': row['date'],\n",
    "                'days_before': row['days_before'],\n",
    "                'bookings': row['bookings'],\n",
    "                'weather_temp': weather_temp,\n",
    "                'weather_rain': weather_rain,\n",
    "                'weather_available': weather_available,\n",
    "                'visitors': row['visitors'],\n",
    "            }\n",
    "            expanded_rows.append(new_row)\n",
    "    return pd.DataFrame(expanded_rows)\n",
    "new_df = expand_df(df)\n",
    "print(new_df)"
   ]
  },
  {
   "cell_type": "markdown",
   "metadata": {},
   "source": [
    "# Merge dataframe with statistical increases"
   ]
  },
  {
   "cell_type": "code",
   "execution_count": null,
   "metadata": {},
   "outputs": [],
   "source": [
    "# Se till så att du inte inkluderar de datum som du tänkt använda som test i modell träningen här, för du vill ha statistiskt från datan innan\n",
    "df_statistical_training = new_df[new_df['date'].between('2022-01-01', '2023-12-30')].copy()\n",
    "print(df_statistical_training)"
   ]
  },
  {
   "cell_type": "code",
   "execution_count": null,
   "metadata": {},
   "outputs": [],
   "source": [
    "df_statistical_training['bookings_increase'] = df_statistical_training.apply(lambda row: ((row['visitors'] - row['bookings']) / row['bookings']) if row['bookings'] > 0 else 0, axis=1)\n",
    "df_statistical_training = df_statistical_training.groupby(\n",
    "    ['day_of_year', 'day_of_month', 'days_before']\n",
    ")['bookings_increase'].median().reset_index()\n",
    "\n",
    "if set(['day_of_year', 'day_of_month', 'days_before']).issubset(new_df.columns) and \\\n",
    "   set(['day_of_year', 'day_of_month', 'days_before', 'bookings_increase']).issubset(df_statistical_training.columns):\n",
    "    final_df = new_df.merge(\n",
    "        df_statistical_training[['day_of_year', 'day_of_month', 'days_before', 'bookings_increase']],\n",
    "        on=['day_of_year', 'day_of_month', 'days_before'],\n",
    "        how='left'\n",
    "    )\n",
    "    print(final_df)\n",
    "else:\n",
    "    print(\"Nödvändiga kolumner för sammanslagning saknas i en eller båda DataFrames!\")\n",
    "print(final_df)"
   ]
  },
  {
   "cell_type": "markdown",
   "metadata": {},
   "source": [
    "# Uncomment the row below to save new dataframe"
   ]
  },
  {
   "cell_type": "code",
   "execution_count": null,
   "metadata": {},
   "outputs": [],
   "source": [
    "# final_df.to_csv('train_data.csv')"
   ]
  }
 ],
 "metadata": {
  "kernelspec": {
   "display_name": "tensorflow_env",
   "language": "python",
   "name": "python3"
  },
  "language_info": {
   "codemirror_mode": {
    "name": "ipython",
    "version": 3
   },
   "file_extension": ".py",
   "mimetype": "text/x-python",
   "name": "python",
   "nbconvert_exporter": "python",
   "pygments_lexer": "ipython3",
   "version": "3.9.18"
  }
 },
 "nbformat": 4,
 "nbformat_minor": 2
}
